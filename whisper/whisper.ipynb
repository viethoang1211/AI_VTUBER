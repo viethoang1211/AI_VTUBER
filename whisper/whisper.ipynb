{
 "cells": [
  {
   "cell_type": "code",
   "execution_count": 6,
   "id": "87a88a66",
   "metadata": {},
   "outputs": [],
   "source": [
    "import whisper\n",
    "\n",
    "model = whisper.load_model(\"base\")\n",
    "result= model.transcribe('idiom_demo.wav',fp16= False)"
   ]
  },
  {
   "cell_type": "code",
   "execution_count": 7,
   "id": "e6f8a165",
   "metadata": {},
   "outputs": [
    {
     "data": {
      "text/plain": [
       "' Good things come to those who wait.'"
      ]
     },
     "execution_count": 7,
     "metadata": {},
     "output_type": "execute_result"
    }
   ],
   "source": [
    "result['text']"
   ]
  },
  {
   "cell_type": "code",
   "execution_count": 8,
   "id": "f7886f45",
   "metadata": {},
   "outputs": [],
   "source": [
    "import speech_recognition as sr"
   ]
  },
  {
   "cell_type": "code",
   "execution_count": 9,
   "id": "ea96c657",
   "metadata": {},
   "outputs": [
    {
     "data": {
      "text/plain": [
       "{'alternative': [{'transcript': 'what things come to those who wait',\n",
       "   'confidence': 0.987629}],\n",
       " 'final': True}"
      ]
     },
     "execution_count": 9,
     "metadata": {},
     "output_type": "execute_result"
    }
   ],
   "source": [
    "r= sr.Recognizer()\n",
    "with sr.AudioFile('idiom_demo.wav') as source:\n",
    "    audio_text= r.listen(source)\n",
    "r.recognize_google(audio_text, show_all=True)"
   ]
  }
 ],
 "metadata": {
  "kernelspec": {
   "display_name": "Python 3 (ipykernel)",
   "language": "python",
   "name": "python3"
  },
  "language_info": {
   "codemirror_mode": {
    "name": "ipython",
    "version": 3
   },
   "file_extension": ".py",
   "mimetype": "text/x-python",
   "name": "python",
   "nbconvert_exporter": "python",
   "pygments_lexer": "ipython3",
   "version": "3.10.9"
  }
 },
 "nbformat": 4,
 "nbformat_minor": 5
}
